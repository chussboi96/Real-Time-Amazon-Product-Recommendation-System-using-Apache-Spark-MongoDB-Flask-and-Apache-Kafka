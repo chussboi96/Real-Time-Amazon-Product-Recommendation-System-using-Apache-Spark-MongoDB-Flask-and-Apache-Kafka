{
  "nbformat": 4,
  "nbformat_minor": 0,
  "metadata": {
    "colab": {
      "provenance": [],
      "gpuType": "T4"
    },
    "kernelspec": {
      "name": "python3",
      "display_name": "Python 3"
    },
    "language_info": {
      "name": "python"
    },
    "gpuClass": "standard",
    "accelerator": "TPU"
  },
  "cells": [
    {
      "cell_type": "code",
      "execution_count": 1,
      "metadata": {
        "id": "DwRYMdgTw5hK"
      },
      "outputs": [],
      "source": [
        "import pandas as pd\n",
        "import numpy as np\n",
        "import json\n",
        "import tensorflow as tf \n",
        "from tensorflow import keras\n",
        "from tensorflow.keras import layers"
      ]
    },
    {
      "cell_type": "code",
      "source": [
        "data=pd.read_json('/content/drive/MyDrive/Bigdata/sampled_reviews.json', orient='records')"
      ],
      "metadata": {
        "id": "ePS14FguBBKr"
      },
      "execution_count": 2,
      "outputs": []
    },
    {
      "cell_type": "code",
      "source": [
        "data.drop('_id', inplace=True, axis=1)"
      ],
      "metadata": {
        "id": "LNmif0mmCPgy"
      },
      "execution_count": 3,
      "outputs": []
    },
    {
      "cell_type": "code",
      "source": [
        "df=data[['asin', 'reviewerID', 'overall']]"
      ],
      "metadata": {
        "id": "Mu5Bhj8EDApR"
      },
      "execution_count": 4,
      "outputs": []
    },
    {
      "cell_type": "code",
      "source": [
        "# encoding UserID and ProductID to simple integers to improve computation effeciency \n",
        "# Maintaing a map to get back the decoded UserID and ProductID after the calculations .\n",
        "\n",
        "user_ids = df[\"reviewerID\"].unique().tolist()\n",
        "user2user_encoded = {x: i for i, x in enumerate(user_ids)}\n",
        "userencoded2user = {i: x for i, x in enumerate(user_ids)}\n",
        "\n",
        "product_ids = df[\"asin\"].unique().tolist()\n",
        "product2product_encoded = {x: i for i, x in enumerate(product_ids)}\n",
        "product_encoded2product = {i: x for i, x in enumerate(product_ids)}\n",
        "\n",
        "df[\"reviewerID\"] = df[\"reviewerID\"].map(user2user_encoded)\n",
        "df[\"asin\"] = df[\"asin\"].map(product2product_encoded)\n",
        "\n",
        "num_users = len(user2user_encoded)\n",
        "num_product = len(product_encoded2product)\n",
        "df['overall'] = df['overall'].values.astype(np.float32)\n",
        "\n",
        "min_rating = min(df['overall'])\n",
        "max_rating = max(df['overall'])"
      ],
      "metadata": {
        "id": "WR4qx94O17QI",
        "colab": {
          "base_uri": "https://localhost:8080/"
        },
        "outputId": "79a51d2f-a261-4979-dc2a-ae891a887226"
      },
      "execution_count": 5,
      "outputs": [
        {
          "output_type": "stream",
          "name": "stderr",
          "text": [
            "<ipython-input-5-b985fc01b7e9>:12: SettingWithCopyWarning: \n",
            "A value is trying to be set on a copy of a slice from a DataFrame.\n",
            "Try using .loc[row_indexer,col_indexer] = value instead\n",
            "\n",
            "See the caveats in the documentation: https://pandas.pydata.org/pandas-docs/stable/user_guide/indexing.html#returning-a-view-versus-a-copy\n",
            "  df[\"reviewerID\"] = df[\"reviewerID\"].map(user2user_encoded)\n",
            "<ipython-input-5-b985fc01b7e9>:13: SettingWithCopyWarning: \n",
            "A value is trying to be set on a copy of a slice from a DataFrame.\n",
            "Try using .loc[row_indexer,col_indexer] = value instead\n",
            "\n",
            "See the caveats in the documentation: https://pandas.pydata.org/pandas-docs/stable/user_guide/indexing.html#returning-a-view-versus-a-copy\n",
            "  df[\"asin\"] = df[\"asin\"].map(product2product_encoded)\n",
            "<ipython-input-5-b985fc01b7e9>:17: SettingWithCopyWarning: \n",
            "A value is trying to be set on a copy of a slice from a DataFrame.\n",
            "Try using .loc[row_indexer,col_indexer] = value instead\n",
            "\n",
            "See the caveats in the documentation: https://pandas.pydata.org/pandas-docs/stable/user_guide/indexing.html#returning-a-view-versus-a-copy\n",
            "  df['overall'] = df['overall'].values.astype(np.float32)\n"
          ]
        }
      ]
    },
    {
      "cell_type": "code",
      "source": [
        "df = df.sample(frac=1, random_state=42)\n",
        "x = df[[\"reviewerID\", \"asin\"]].values\n",
        "\n",
        "y = df[\"overall\"].apply(lambda x: (x - min_rating) / (max_rating - min_rating)).values\n",
        "\n",
        "train_indices = int(0.7 * df.shape[0])\n",
        "val_indices = int(0.9 * df.shape[0]) \n",
        "\n",
        "x_train, x_val, x_test , y_train, y_val , y_test = (\n",
        "    x[:train_indices],\n",
        "    x[train_indices:val_indices],\n",
        "    x[val_indices : ] , \n",
        "    y[:train_indices],\n",
        "    y[train_indices:val_indices], \n",
        "    y[val_indices : ]\n",
        ")"
      ],
      "metadata": {
        "id": "0RJokqbM2dgJ"
      },
      "execution_count": 6,
      "outputs": []
    },
    {
      "cell_type": "code",
      "source": [
        "model.save(\"model\", save_format=\"tf\")"
      ],
      "metadata": {
        "id": "X_tU3safXH-A"
      },
      "execution_count": null,
      "outputs": []
    },
    {
      "cell_type": "code",
      "source": [
        "model = tf.keras.models.load_model(\"model\")"
      ],
      "metadata": {
        "id": "9Fi5YWdFX1Uo"
      },
      "execution_count": 8,
      "outputs": []
    },
    {
      "cell_type": "code",
      "source": [
        "EMBEDDING_SIZE = 40\n",
        "\n",
        "class Recommender(keras.Model):\n",
        "    def __init__(self, num_users, num_product, embedding_size):\n",
        "        super(Recommender, self).__init__()\n",
        "        self.num_users = num_users\n",
        "        self.num_product = num_product\n",
        "        self.embedding_size = embedding_size\n",
        "        self.user_embedding = layers.Embedding(\n",
        "            num_users,\n",
        "            embedding_size,\n",
        "            embeddings_initializer=\"he_normal\",\n",
        "            embeddings_regularizer=keras.regularizers.l2(1e-6),\n",
        "        )\n",
        "        self.user_bias = layers.Embedding(num_users, 1)\n",
        "        self.product_embedding = layers.Embedding(\n",
        "            num_product,\n",
        "            embedding_size,\n",
        "            embeddings_initializer=\"he_normal\",\n",
        "            embeddings_regularizer=keras.regularizers.l2(1e-6)\n",
        "        )\n",
        "        self.product_bias = layers.Embedding(num_product, 1)\n",
        "        \n",
        "    def call(self, inputs):\n",
        "        \n",
        "        user_vector = self.user_embedding(inputs[:, 0])\n",
        "        product_vector = self.product_embedding(inputs[:, 1])\n",
        "        \n",
        "        user_bias = self.user_bias(inputs[:, 0])\n",
        "        product_bias = self.product_bias(inputs[:, 1])\n",
        "        \n",
        "        dot_prod = tf.tensordot(user_vector, product_vector, 2)\n",
        "\n",
        "        x = dot_prod + user_bias + product_bias\n",
        "        \n",
        "        return tf.nn.sigmoid(x)\n",
        "    \n",
        "    def getRecomendation(self , df , user , k )  : \n",
        "        key = list(filter(lambda x: user2user_encoded[x] == 100, user2user_encoded))[0]\n",
        "        encoded_user = user2user_encoded[key]\n",
        "\n",
        "        all_prods = df['asin'].unique() \n",
        "        prods = df[df.reviewerID == encoded_user]['asin'].values\n",
        "        remainder = list(set(all_prods) - set(prods))\n",
        "        n = len(remainder) \n",
        "        out = np.empty((n, 2),dtype=int)\n",
        "        out[: ,  0 ] = encoded_user\n",
        "        out[ : , 1 ] = remainder[:None]\n",
        "        output = self.predict(out)\n",
        "\n",
        "        ndx = map(lambda x : product_encoded2product[x] , remainder )\n",
        "        vals = output[: , 0 ]\n",
        "\n",
        "        return pd.Series(index = ndx , data = vals).sort_values(ascending = False )[ :k ].index\n",
        "    \n",
        "model = Recommender(num_users, num_product, EMBEDDING_SIZE)\n",
        "model.compile(\n",
        "    loss=tf.keras.losses.BinaryCrossentropy(), optimizer=keras.optimizers.Adam(learning_rate=0.001)\n",
        ")\n"
      ],
      "metadata": {
        "id": "4klwoY2W4NAI"
      },
      "execution_count": 9,
      "outputs": []
    },
    {
      "cell_type": "code",
      "source": [
        "history = model.fit(\n",
        "    x=x_train,\n",
        "    y=y_train,\n",
        "    batch_size=32,\n",
        "    epochs=5,\n",
        "#     verbose=1,\n",
        "    validation_data=(x_val, y_val)\n",
        ")"
      ],
      "metadata": {
        "colab": {
          "base_uri": "https://localhost:8080/"
        },
        "id": "1DX4eleL9xgx",
        "outputId": "4828ba4f-3c97-4bd2-a02e-0418ae146cc4"
      },
      "execution_count": 8,
      "outputs": [
        {
          "output_type": "stream",
          "name": "stdout",
          "text": [
            "Epoch 1/5\n",
            "2367/2367 [==============================] - 288s 120ms/step - loss: 0.6931 - val_loss: 0.6926\n",
            "Epoch 2/5\n",
            "2367/2367 [==============================] - 298s 126ms/step - loss: 0.6701 - val_loss: 0.6923\n",
            "Epoch 3/5\n",
            "2367/2367 [==============================] - 289s 122ms/step - loss: 0.6225 - val_loss: 0.6928\n",
            "Epoch 4/5\n",
            "2367/2367 [==============================] - 285s 120ms/step - loss: 0.5753 - val_loss: 0.6932\n",
            "Epoch 5/5\n",
            "2367/2367 [==============================] - 286s 121ms/step - loss: 0.5529 - val_loss: 0.6930\n"
          ]
        }
      ]
    },
    {
      "cell_type": "code",
      "source": [
        "u = df['reviewerID'].sample(1).values[0]               #take user id as input\n",
        "K = 10                                                 #top k items\n",
        "top_10_prod = model.getRecomendation(df , u ,K )\n",
        "\n",
        "print(\"Top {k} recommendations for userID  : {user} are - {l} \".format( k = K  , user = u , l = list(top_10_prod)))"
      ],
      "metadata": {
        "colab": {
          "base_uri": "https://localhost:8080/"
        },
        "id": "Ukdv-6d1DaW-",
        "outputId": "e7108991-6b6c-4096-9305-fd36bc442e6c"
      },
      "execution_count": 10,
      "outputs": [
        {
          "output_type": "stream",
          "name": "stdout",
          "text": [
            "3075/3075 [==============================] - 5s 2ms/step\n",
            "Top 10 recommendations for userID  : 16321 are - ['1414371217', 'B004BA6LSU', 'B012BT3C2A', 'B0023ZQDEC', '0099513587', '1932225412', '0976247909', '0670918466', 'B007OTFC08', 'B001IDYHO8'] \n"
          ]
        }
      ]
    },
    {
      "cell_type": "code",
      "source": [
        "#more info about the reccomended items\n",
        "\n",
        "data[data['asin'].isin(top_10_prod)]"
      ],
      "metadata": {
        "colab": {
          "base_uri": "https://localhost:8080/",
          "height": 363
        },
        "id": "za3pMQtaaTsL",
        "outputId": "3bc240fb-d323-439d-df70-052e930966c2"
      },
      "execution_count": 11,
      "outputs": [
        {
          "output_type": "execute_result",
          "data": {
            "text/plain": [
              "              asin feedback  overall  \\\n",
              "15083   B004BA6LSU      bad        1   \n",
              "20553   B012BT3C2A      bad        1   \n",
              "53849   0670918466      bad        2   \n",
              "54576   B007OTFC08     good        4   \n",
              "54587   B0023ZQDEC     good        4   \n",
              "58489   0976247909      bad        1   \n",
              "83690   B001IDYHO8     good        5   \n",
              "92884   0099513587     good        5   \n",
              "99103   1414371217     good        5   \n",
              "103259  1932225412     good        5   \n",
              "\n",
              "                                               reviewText  \\\n",
              "15083   it defective. it look nice but there are some ...   \n",
              "20553   the chain turn black within 2 day & turn my ne...   \n",
              "53849   lot of inform with some overlap with the tudor...   \n",
              "54576   this knife is great for most kitchen tasks. it...   \n",
              "54587   fit nice on me. the materi is soft and comfort...   \n",
              "58489   from what i know, one is either an alcohol or ...   \n",
              "83690   it was exact what i was look for and didn't ev...   \n",
              "92884   i purchas this book for a friend who absolut l...   \n",
              "99103   are you readi to face this our countri is get ...   \n",
              "103259                                    great five star   \n",
              "\n",
              "                  reviewerID  unixReviewTime  verified vote  \n",
              "15083         A3DMBR1T5K8ZCA      1448668800      True   19  \n",
              "20553          A9BD9TOYLIN1W      1496707200      True   23  \n",
              "53849         A393OVPV6OAEKV      1396915200      True    5  \n",
              "54576         A3C9YEVK93XRGY      1375315200      True    3  \n",
              "54587         A3NJ54IYXF6LKB      1458604800      True    3  \n",
              "58489          AW6E0EY4CL5WU      1246060800      True    4  \n",
              "83690   A08728679ECQXI7MLGUX      1353369600      True    2  \n",
              "92884          AVXB9EUGLL9GY      1306627200      True    2  \n",
              "99103          AG4XEUY6OVVC8      1370649600      True    2  \n",
              "103259        A2W5PXJ2Q7JVIF      1452902400      True    2  "
            ],
            "text/html": [
              "\n",
              "  <div id=\"df-530757f9-7bfc-47e3-86d2-76fbfc5fe69e\">\n",
              "    <div class=\"colab-df-container\">\n",
              "      <div>\n",
              "<style scoped>\n",
              "    .dataframe tbody tr th:only-of-type {\n",
              "        vertical-align: middle;\n",
              "    }\n",
              "\n",
              "    .dataframe tbody tr th {\n",
              "        vertical-align: top;\n",
              "    }\n",
              "\n",
              "    .dataframe thead th {\n",
              "        text-align: right;\n",
              "    }\n",
              "</style>\n",
              "<table border=\"1\" class=\"dataframe\">\n",
              "  <thead>\n",
              "    <tr style=\"text-align: right;\">\n",
              "      <th></th>\n",
              "      <th>asin</th>\n",
              "      <th>feedback</th>\n",
              "      <th>overall</th>\n",
              "      <th>reviewText</th>\n",
              "      <th>reviewerID</th>\n",
              "      <th>unixReviewTime</th>\n",
              "      <th>verified</th>\n",
              "      <th>vote</th>\n",
              "    </tr>\n",
              "  </thead>\n",
              "  <tbody>\n",
              "    <tr>\n",
              "      <th>15083</th>\n",
              "      <td>B004BA6LSU</td>\n",
              "      <td>bad</td>\n",
              "      <td>1</td>\n",
              "      <td>it defective. it look nice but there are some ...</td>\n",
              "      <td>A3DMBR1T5K8ZCA</td>\n",
              "      <td>1448668800</td>\n",
              "      <td>True</td>\n",
              "      <td>19</td>\n",
              "    </tr>\n",
              "    <tr>\n",
              "      <th>20553</th>\n",
              "      <td>B012BT3C2A</td>\n",
              "      <td>bad</td>\n",
              "      <td>1</td>\n",
              "      <td>the chain turn black within 2 day &amp; turn my ne...</td>\n",
              "      <td>A9BD9TOYLIN1W</td>\n",
              "      <td>1496707200</td>\n",
              "      <td>True</td>\n",
              "      <td>23</td>\n",
              "    </tr>\n",
              "    <tr>\n",
              "      <th>53849</th>\n",
              "      <td>0670918466</td>\n",
              "      <td>bad</td>\n",
              "      <td>2</td>\n",
              "      <td>lot of inform with some overlap with the tudor...</td>\n",
              "      <td>A393OVPV6OAEKV</td>\n",
              "      <td>1396915200</td>\n",
              "      <td>True</td>\n",
              "      <td>5</td>\n",
              "    </tr>\n",
              "    <tr>\n",
              "      <th>54576</th>\n",
              "      <td>B007OTFC08</td>\n",
              "      <td>good</td>\n",
              "      <td>4</td>\n",
              "      <td>this knife is great for most kitchen tasks. it...</td>\n",
              "      <td>A3C9YEVK93XRGY</td>\n",
              "      <td>1375315200</td>\n",
              "      <td>True</td>\n",
              "      <td>3</td>\n",
              "    </tr>\n",
              "    <tr>\n",
              "      <th>54587</th>\n",
              "      <td>B0023ZQDEC</td>\n",
              "      <td>good</td>\n",
              "      <td>4</td>\n",
              "      <td>fit nice on me. the materi is soft and comfort...</td>\n",
              "      <td>A3NJ54IYXF6LKB</td>\n",
              "      <td>1458604800</td>\n",
              "      <td>True</td>\n",
              "      <td>3</td>\n",
              "    </tr>\n",
              "    <tr>\n",
              "      <th>58489</th>\n",
              "      <td>0976247909</td>\n",
              "      <td>bad</td>\n",
              "      <td>1</td>\n",
              "      <td>from what i know, one is either an alcohol or ...</td>\n",
              "      <td>AW6E0EY4CL5WU</td>\n",
              "      <td>1246060800</td>\n",
              "      <td>True</td>\n",
              "      <td>4</td>\n",
              "    </tr>\n",
              "    <tr>\n",
              "      <th>83690</th>\n",
              "      <td>B001IDYHO8</td>\n",
              "      <td>good</td>\n",
              "      <td>5</td>\n",
              "      <td>it was exact what i was look for and didn't ev...</td>\n",
              "      <td>A08728679ECQXI7MLGUX</td>\n",
              "      <td>1353369600</td>\n",
              "      <td>True</td>\n",
              "      <td>2</td>\n",
              "    </tr>\n",
              "    <tr>\n",
              "      <th>92884</th>\n",
              "      <td>0099513587</td>\n",
              "      <td>good</td>\n",
              "      <td>5</td>\n",
              "      <td>i purchas this book for a friend who absolut l...</td>\n",
              "      <td>AVXB9EUGLL9GY</td>\n",
              "      <td>1306627200</td>\n",
              "      <td>True</td>\n",
              "      <td>2</td>\n",
              "    </tr>\n",
              "    <tr>\n",
              "      <th>99103</th>\n",
              "      <td>1414371217</td>\n",
              "      <td>good</td>\n",
              "      <td>5</td>\n",
              "      <td>are you readi to face this our countri is get ...</td>\n",
              "      <td>AG4XEUY6OVVC8</td>\n",
              "      <td>1370649600</td>\n",
              "      <td>True</td>\n",
              "      <td>2</td>\n",
              "    </tr>\n",
              "    <tr>\n",
              "      <th>103259</th>\n",
              "      <td>1932225412</td>\n",
              "      <td>good</td>\n",
              "      <td>5</td>\n",
              "      <td>great five star</td>\n",
              "      <td>A2W5PXJ2Q7JVIF</td>\n",
              "      <td>1452902400</td>\n",
              "      <td>True</td>\n",
              "      <td>2</td>\n",
              "    </tr>\n",
              "  </tbody>\n",
              "</table>\n",
              "</div>\n",
              "      <button class=\"colab-df-convert\" onclick=\"convertToInteractive('df-530757f9-7bfc-47e3-86d2-76fbfc5fe69e')\"\n",
              "              title=\"Convert this dataframe to an interactive table.\"\n",
              "              style=\"display:none;\">\n",
              "        \n",
              "  <svg xmlns=\"http://www.w3.org/2000/svg\" height=\"24px\"viewBox=\"0 0 24 24\"\n",
              "       width=\"24px\">\n",
              "    <path d=\"M0 0h24v24H0V0z\" fill=\"none\"/>\n",
              "    <path d=\"M18.56 5.44l.94 2.06.94-2.06 2.06-.94-2.06-.94-.94-2.06-.94 2.06-2.06.94zm-11 1L8.5 8.5l.94-2.06 2.06-.94-2.06-.94L8.5 2.5l-.94 2.06-2.06.94zm10 10l.94 2.06.94-2.06 2.06-.94-2.06-.94-.94-2.06-.94 2.06-2.06.94z\"/><path d=\"M17.41 7.96l-1.37-1.37c-.4-.4-.92-.59-1.43-.59-.52 0-1.04.2-1.43.59L10.3 9.45l-7.72 7.72c-.78.78-.78 2.05 0 2.83L4 21.41c.39.39.9.59 1.41.59.51 0 1.02-.2 1.41-.59l7.78-7.78 2.81-2.81c.8-.78.8-2.07 0-2.86zM5.41 20L4 18.59l7.72-7.72 1.47 1.35L5.41 20z\"/>\n",
              "  </svg>\n",
              "      </button>\n",
              "      \n",
              "  <style>\n",
              "    .colab-df-container {\n",
              "      display:flex;\n",
              "      flex-wrap:wrap;\n",
              "      gap: 12px;\n",
              "    }\n",
              "\n",
              "    .colab-df-convert {\n",
              "      background-color: #E8F0FE;\n",
              "      border: none;\n",
              "      border-radius: 50%;\n",
              "      cursor: pointer;\n",
              "      display: none;\n",
              "      fill: #1967D2;\n",
              "      height: 32px;\n",
              "      padding: 0 0 0 0;\n",
              "      width: 32px;\n",
              "    }\n",
              "\n",
              "    .colab-df-convert:hover {\n",
              "      background-color: #E2EBFA;\n",
              "      box-shadow: 0px 1px 2px rgba(60, 64, 67, 0.3), 0px 1px 3px 1px rgba(60, 64, 67, 0.15);\n",
              "      fill: #174EA6;\n",
              "    }\n",
              "\n",
              "    [theme=dark] .colab-df-convert {\n",
              "      background-color: #3B4455;\n",
              "      fill: #D2E3FC;\n",
              "    }\n",
              "\n",
              "    [theme=dark] .colab-df-convert:hover {\n",
              "      background-color: #434B5C;\n",
              "      box-shadow: 0px 1px 3px 1px rgba(0, 0, 0, 0.15);\n",
              "      filter: drop-shadow(0px 1px 2px rgba(0, 0, 0, 0.3));\n",
              "      fill: #FFFFFF;\n",
              "    }\n",
              "  </style>\n",
              "\n",
              "      <script>\n",
              "        const buttonEl =\n",
              "          document.querySelector('#df-530757f9-7bfc-47e3-86d2-76fbfc5fe69e button.colab-df-convert');\n",
              "        buttonEl.style.display =\n",
              "          google.colab.kernel.accessAllowed ? 'block' : 'none';\n",
              "\n",
              "        async function convertToInteractive(key) {\n",
              "          const element = document.querySelector('#df-530757f9-7bfc-47e3-86d2-76fbfc5fe69e');\n",
              "          const dataTable =\n",
              "            await google.colab.kernel.invokeFunction('convertToInteractive',\n",
              "                                                     [key], {});\n",
              "          if (!dataTable) return;\n",
              "\n",
              "          const docLinkHtml = 'Like what you see? Visit the ' +\n",
              "            '<a target=\"_blank\" href=https://colab.research.google.com/notebooks/data_table.ipynb>data table notebook</a>'\n",
              "            + ' to learn more about interactive tables.';\n",
              "          element.innerHTML = '';\n",
              "          dataTable['output_type'] = 'display_data';\n",
              "          await google.colab.output.renderOutput(dataTable, element);\n",
              "          const docLink = document.createElement('div');\n",
              "          docLink.innerHTML = docLinkHtml;\n",
              "          element.appendChild(docLink);\n",
              "        }\n",
              "      </script>\n",
              "    </div>\n",
              "  </div>\n",
              "  "
            ]
          },
          "metadata": {},
          "execution_count": 11
        }
      ]
    }
  ]
}